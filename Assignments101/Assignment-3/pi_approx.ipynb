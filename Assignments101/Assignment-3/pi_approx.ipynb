{
 "cells": [
  {
   "cell_type": "code",
   "execution_count": 22,
   "metadata": {
    "collapsed": false
   },
   "outputs": [
    {
     "name": "stdout",
     "output_type": "stream",
     "text": [
      "When n =      10, rho_n = 3.04183961893\n",
      "When n =      10, tau_n = 3.04936163598\n",
      "When n =      10, mu_n = 3.14138462247\n",
      "When n =      100, rho_n = 3.13159290356\n",
      "When n =      100, tau_n = 3.13207653181\n",
      "When n =      100, mu_n = 3.14159241531\n",
      "When n =      1000, rho_n = 3.14059265384\n",
      "When n =      1000, tau_n = 3.14063805621\n",
      "When n =      1000, mu_n = 3.14159265335\n",
      "When n =      10000, rho_n = 3.14149265359\n",
      "When n =      10000, tau_n = 3.14149716395\n",
      "When n =      10000, mu_n = 3.14159265359\n",
      "When n =      100000, rho_n = 3.14158265359\n",
      "When n =      100000, tau_n = 3.14158310433\n",
      "When n =      100000, mu_n = 3.14159265359\n",
      "When n =      1000000, rho_n = 3.14159165359\n",
      "When n =      1000000, tau_n = 3.14159169866\n",
      "When n =      1000000, mu_n = 3.14159265359\n"
     ]
    }
   ],
   "source": [
    "#Vic Savage 100556060\n",
    "import math\n",
    "from numpy import *\n",
    "import numpy as np\n",
    "#ok so i split up each equation so i can return its value at each n \n",
    "\n",
    "#so starting with rho this function will go threw each n and return its value \n",
    "def rho_n(n):\n",
    "    k = 1\n",
    "    i = 0\n",
    "    total = 0\n",
    "    while i < n:\n",
    "        x = pow(-1, i+2)\n",
    "        # need float to keep it acurate\n",
    "        total += x/float(k)\t\n",
    "        k+=2\n",
    "        i+=1\n",
    "    return 4*total\n",
    "#for tau this function will go threw each n and return its value \n",
    "def tau_n(n):\n",
    "    i = 1\n",
    "    total = 0\n",
    "    while i <= n:\n",
    "        # need float to keep it acurate\n",
    "        total += 1/float(pow(i, 2))\n",
    "        i+=1\n",
    "    return np.sqrt(6*total)\n",
    "#for mu this function will go threw each n and return its value \n",
    "def mu_n(n):\n",
    "    i = 1\n",
    "    total = 0\n",
    "    while i <= n:\n",
    "        # need float to keep it acurate\n",
    "        total += 1/float(pow(i, 4))\n",
    "        i+=1\n",
    "    return (90*total)**(1/4.0)\n",
    "\n",
    "def main():\n",
    "    #now i can declare my n and call it in each function\n",
    "    n = [10, 100, 1000, 10000, 100000, 1000000]\n",
    "    for i in n:\n",
    "        rho = rho_n(i)\n",
    "        tau = tau_n(i)\n",
    "        mu = mu_n(i)\n",
    "        # the.11f is the number of decial places we were asked to have \n",
    "        print \"When n =      %d, rho_n = %.11f\" % (i, rho)\n",
    "        print \"When n =      %d, tau_n = %.11f\" % (i, tau)\n",
    "        print \"When n =      %d, mu_n = %.11f\" % (i, mu)\n",
    "if __name__ == '__main__':\n",
    "    main()"
   ]
  },
  {
   "cell_type": "code",
   "execution_count": null,
   "metadata": {
    "collapsed": true
   },
   "outputs": [],
   "source": []
  }
 ],
 "metadata": {
  "kernelspec": {
   "display_name": "Python 2",
   "language": "python",
   "name": "python2"
  },
  "language_info": {
   "codemirror_mode": {
    "name": "ipython",
    "version": 2
   },
   "file_extension": ".py",
   "mimetype": "text/x-python",
   "name": "python",
   "nbconvert_exporter": "python",
   "pygments_lexer": "ipython2",
   "version": "2.7.10"
  }
 },
 "nbformat": 4,
 "nbformat_minor": 0
}
