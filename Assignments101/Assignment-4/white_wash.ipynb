{
 "cells": [
  {
   "cell_type": "code",
   "execution_count": 1,
   "metadata": {
    "collapsed": true
   },
   "outputs": [],
   "source": [
    "#Victoria Savage\n",
    "#100556060\n",
    "import numpy as npy\n",
    "import matplotlib.pyplot as plt"
   ]
  },
  {
   "cell_type": "code",
   "execution_count": 28,
   "metadata": {
    "collapsed": false
   },
   "outputs": [
    {
     "name": "stdout",
     "output_type": "stream",
     "text": [
      "[[ 1.76  1.98  2.2 ]\n",
      " [ 3.96  4.18  4.4 ]\n",
      " [ 6.16  6.38  6.6 ]]\n"
     ]
    }
   ],
   "source": [
    "#the question was unclear whether or not to ask the user to imput numbers, so for simplisity \n",
    "#i imputed the values for the matrix myself \n",
    "inputmatrix = npy.array([[1.1, 1.3, 1.5], [3.1, 3.3, 3.5], [5.1, 5.3, 5.5]])\n",
    "\n",
    "def white_wash(matrix):\n",
    "    #ok so first we need to flatten this matrix for it to work\n",
    "    colorMap = matrix.flatten()  \n",
    "    #now we need to make a matrix of ones \n",
    "    colorMap1 = npy.zeros_like(colorMap)   \n",
    "    colorMap1.fill(0.5)\n",
    "    colorMap = colorMap + colorMap1\n",
    "    \n",
    "    colorMap2 = npy.zeros_like(colorMap)  \n",
    "    colorMap2.fill(1.1) \n",
    "    colorMap = colorMap * colorMap2 \n",
    "    #now we have the average value we can creat the matrix\n",
    "    colorMap=colorMap.reshape(colorMap.size/3, 3)#size the matrix to be 3x3\n",
    "    return(colorMap)\n",
    "\n",
    "print(white_wash(inputmatrix))"
   ]
  }
 ],
 "metadata": {
  "kernelspec": {
   "display_name": "Python 2",
   "language": "python",
   "name": "python2"
  },
  "language_info": {
   "codemirror_mode": {
    "name": "ipython",
    "version": 2
   },
   "file_extension": ".py",
   "mimetype": "text/x-python",
   "name": "python",
   "nbconvert_exporter": "python",
   "pygments_lexer": "ipython2",
   "version": "2.7.10"
  }
 },
 "nbformat": 4,
 "nbformat_minor": 0
}
