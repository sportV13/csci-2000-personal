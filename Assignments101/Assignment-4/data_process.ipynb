{
 "cells": [
  {
   "cell_type": "code",
   "execution_count": null,
   "metadata": {
    "collapsed": true
   },
   "outputs": [],
   "source": [
    "#Victoria Savage\n",
    "#100556060\n",
    "%matplotlib inline\n",
    "from struct import *\n",
    "import math as math\n",
    "import matplotlib.mlab as mlab\n",
    "import matplotlib.pyplot as plt\n",
    "import numpy as np"
   ]
  },
  {
   "cell_type": "code",
   "execution_count": null,
   "metadata": {
    "collapsed": true
   },
   "outputs": [],
   "source": [
    "#need to open these file to use its data\n",
    "with open('/home/sport_v13/Desktop/csci-2000-personal/Large_Data/halo.dathalo.dat', 'rb') as file:\n",
    "    N_halo = file.readline()\n",
    "    T_halo = file.readline()\n",
    "    data_halo = file.readline()\n",
    "    struct.unpack(\"i\", N_halo[:20])\n",
    "    struct.unpack(\"i\", T_halo[:-4])\n",
    "    struct.unpack(\"i\" * ((len(data_halo) -24) // 4), data_halo[20:-4])\n",
    "Vx = []\n",
    "Vy = []\n",
    "Vz = []\n",
    "v_halo = []\n",
    "\n",
    "#to go threw the entire array i need to add this              \n",
    "for i in range(len(data_halo)):\n",
    "    v_halo.append(math.sqrt(Vx[i]**2 + Vy[i]**2 + Vz[i]**2))\n",
    "\n",
    "mu, sigma = 100, 15\n",
    "x = mu + sigma*np.random.randn(10000)\n",
    "#for the histogram to have its data\n",
    "n, bins, patches = plt.hist(v_halo, 50, normed=1, facecolor='green', alpha=0.75)\n",
    "#to make the line of best fit \n",
    "y = mlab.normpdf( bins, mu, sigma)\n",
    "l = plt.plot(bins, y, 'r--', linewidth=1)\n",
    "\n",
    "#now i need to plot so i need to go threw my axises\n",
    "plt.xlabel('Bodies')\n",
    "plt.ylabel('Speeds')\n",
    "plt.title(\"Velocity Histogram (halo) 100556060\")\n",
    "plt.axis([40, 160, 0, 0.03])\n",
    "plt.grid(True)\n",
    "\n",
    "plt.show()\n"
   ]
  },
  {
   "cell_type": "code",
   "execution_count": null,
   "metadata": {
    "collapsed": true
   },
   "outputs": [],
   "source": [
    "#need to open these file to use its data\n",
    "with open('/home/sport_v13/Desktop/csci-2000-personal/Large_Data/snapshot_010.dat', 'rb') as file:\n",
    "    N_010 = file.readline()\n",
    "    T_010 = file.readline()\n",
    "    data_010 = file.readline()\n",
    "    struct.unpack(\"i\", N_010[:20])\n",
    "    struct.unpack(\"i\", T_010[:-4])\n",
    "    struct.unpack(\"i\" * ((len(data_010) -24) // 4), [20:-4])\n",
    "Vx = []\n",
    "Vy = []\n",
    "Vz = []\n",
    "v_010 = []\n",
    "\n",
    "#to go threw the entire array i need to add this  \n",
    "for i in range(len(data_010)): \n",
    "    v_010.append(math.sqrt(Vx[i]**2 + Vy[i]**2 + Vz[i]**2))\n",
    "    \n",
    "mu, sigma = 100, 15\n",
    "x = mu + sigma*np.random.randn(10000)\n",
    "#for the histogram to have its data\n",
    "n, bins, patches = plt.hist(v_010, 50, normed=1, facecolor='green', alpha=0.75)\n",
    "#to make the line of best fit \n",
    "y = mlab.normpdf( bins, mu, sigma)\n",
    "l = plt.plot(bins, y, 'r--', linewidth=1)\n",
    "\n",
    "#now i need to plot so i need to go threw my axises\n",
    "plt.xlabel('Bodies')\n",
    "plt.ylabel('Speeds')\n",
    "plt.title(\"Velocity Histogram (010) 100556060\")\n",
    "plt.axis([40, 160, 0, 0.03])\n",
    "plt.grid(True)\n",
    "\n",
    "plt.show()"
   ]
  }
 ],
 "metadata": {
  "kernelspec": {
   "display_name": "Python 2",
   "language": "python",
   "name": "python2"
  },
  "language_info": {
   "codemirror_mode": {
    "name": "ipython",
    "version": 2
   },
   "file_extension": ".py",
   "mimetype": "text/x-python",
   "name": "python",
   "nbconvert_exporter": "python",
   "pygments_lexer": "ipython2",
   "version": "2.7.10"
  }
 },
 "nbformat": 4,
 "nbformat_minor": 0
}
