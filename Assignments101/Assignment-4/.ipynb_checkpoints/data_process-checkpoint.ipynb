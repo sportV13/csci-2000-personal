{
 "cells": [
  {
   "cell_type": "code",
   "execution_count": null,
   "metadata": {
    "collapsed": true
   },
   "outputs": [],
   "source": [
    "#Victoria Savage\n",
    "#100556060\n",
    "from struct import *\n",
    "import math as math\n",
    "import matplotlib.pyplot as plt\n",
    "import numpy as np"
   ]
  },
  {
   "cell_type": "code",
   "execution_count": null,
   "metadata": {
    "collapsed": true
   },
   "outputs": [],
   "source": [
    "Vx = []\n",
    "Vy = []\n",
    "Vz = []\n",
    "v_halo = []\n",
    "#need to open these file to use its data\n",
    "with open('/home/sport_v13/Desktop/csci-2000-personal/Large_Data/halo.dathalo.dat', 'rb') as file:\n",
    "    N_halo = file.readline()\n",
    "    T_halo = file.readline()\n",
    "    data_halo = file.readline()\n",
    "    \n",
    "    struct.unpack(\"i\", N_halo[:20])\n",
    "    struct.unpack(\"i\", T_halo[:-4])\n",
    "    struct.unpack(\"i\" * ((len(data_halo) -24) // 4), data_halo[20:-4])\n",
    "\n",
    "\n",
    "             \n",
    "for i in range(len(data_halo)):\n",
    "    v_halo.append(math.sqrt(Vx[i]**2 + Vy[i]**2 + Vz[i]**2))\n",
    "    \n",
    "\n",
    "%matplotlib inline\n",
    "import numpy as np\n",
    "import matplotlib.mlab as mlab\n",
    "import matplotlib.pyplot as plt\n",
    "\n",
    "\n",
    "mu, sigma = 100, 15\n",
    "x = mu + sigma*np.random.randn(10000)\n",
    "\n",
    "\n",
    "n, bins, patches = plt.hist(v_halo, 50, normed=1, facecolor='green', alpha=0.75)\n",
    "\n",
    "y = mlab.normpdf( bins, mu, sigma)\n",
    "l = plt.plot(bins, y, 'r--', linewidth=1)\n",
    "\n",
    "\n",
    "plt.xlabel('Bodies')\n",
    "plt.ylabel('Speeds')\n",
    "plt.title(\"Velocity Histogram (halo) 100556060\")\n",
    "plt.axis([40, 160, 0, 0.03])\n",
    "plt.grid(True)\n",
    "\n",
    "plt.show()\n"
   ]
  },
  {
   "cell_type": "code",
   "execution_count": null,
   "metadata": {
    "collapsed": true
   },
   "outputs": [],
   "source": []
  }
 ],
 "metadata": {
  "kernelspec": {
   "display_name": "Python 2",
   "language": "python",
   "name": "python2"
  },
  "language_info": {
   "codemirror_mode": {
    "name": "ipython",
    "version": 2
   },
   "file_extension": ".py",
   "mimetype": "text/x-python",
   "name": "python",
   "nbconvert_exporter": "python",
   "pygments_lexer": "ipython2",
   "version": "2.7.10"
  }
 },
 "nbformat": 4,
 "nbformat_minor": 0
}
